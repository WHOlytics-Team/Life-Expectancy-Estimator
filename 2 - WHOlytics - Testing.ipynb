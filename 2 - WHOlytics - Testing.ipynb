{
 "cells": [
  {
   "cell_type": "markdown",
   "id": "6f343db5",
   "metadata": {},
   "source": [
    "</p> <p style=\"text-align:center;\">\n",
    "<img \n",
    "    src=\"https://images-ext-1.discordapp.net/external/8rgDaCvLqrqclKam5YznFYmsGOTU899pxnFf406bX4I/https/i.postimg.cc/tgyfnHYs/WHOlytics.png?format=webp&quality=lossless\"\n",
    "     alt=\"WHOlytics\"\n",
    "    width=\"200\"\n",
    "     style=\"float: right; margin-left: 0px;\"/>\n",
    "</p>\n",
    "\n",
    "<p style=\"text-align:center;\">\n",
    "<img \n",
    "    src=\"https://i.postimg.cc/9fQzwcLM/WHO-cropped.jpg\"\n",
    "     alt=\"WHO\"\n",
    "     style=\"float: center; margin-left: 0px;\"/>"
   ]
  },
  {
   "cell_type": "markdown",
   "id": "f8cb968e",
   "metadata": {
    "id": "f8cb968e"
   },
   "source": [
    "# WHOlytics Life Expectancy Prediction Model Test Cases\n",
    "(modelled on data for each country between 2000 - 2015)"
   ]
  },
  {
   "cell_type": "markdown",
   "id": "cb010c7c",
   "metadata": {
    "id": "cb010c7c"
   },
   "source": [
    "### 🌏 Test Case 1: Asia (India)"
   ]
  },
  {
   "cell_type": "markdown",
   "id": "2a9305f4",
   "metadata": {
    "id": "2a9305f4"
   },
   "source": [
    "🧪 **Advanced Scenario Input Data:**\n",
    "- Region: **Asia**\n",
    "- Year: **2007**\n",
    "- Adult Mortality: **201.08**\n",
    "- Infant Deaths: **51.5**\n",
    "- Polio: **67.0**\n",
    "- HIV Incidents: **0.13**\n",
    "- BMI: **21.2**\n",
    "- Thinness (10–19 yrs): **27.1**\n",
    "- Schooling: **5.0**\n",
    "- GDP Per Capita: **$1,076.0**\n",
    "\n",
    "**Predicted Life Expectancy:** **🌟 65.43 years**  \n",
    "**Actual Life Expectancy:** **✅ 65.4 years**  \n",
    "**Error:** **❌ +0.03 years**\n",
    "\n",
    "━━━━━━━━━━━━━━━━━━━━━━━━━━━━━━━━━━━━━━\n",
    "\n",
    "🌟 **Sensitive Scenario Input Data:**\n",
    "- Region: **Asia**\n",
    "- Year: **2007**\n",
    "- Adult Mortality: **201.08**\n",
    "- BMI: **21.2**\n",
    "- Polio: **67.0**\n",
    "- GDP Per Capita: **$1,076.0**\n",
    "\n",
    "**Predicted Life Expectancy:** **🌟 63.43 years**  \n",
    "**Actual Life Expectancy:** **✅ 65.4 years**  \n",
    "**Error:** **❌ -1.97 years**\n",
    "<br><br><br>\n"
   ]
  },
  {
   "cell_type": "markdown",
   "id": "144c0a06",
   "metadata": {
    "id": "144c0a06"
   },
   "source": [
    "### 🌏 Test Case 2: Africa (South Africa)\n"
   ]
  },
  {
   "cell_type": "markdown",
   "id": "fa5bbd85",
   "metadata": {
    "id": "fa5bbd85"
   },
   "source": [
    "🧪 **Advanced Scenario Input Data:**  \n",
    "- Region: Africa  \n",
    "- Year: 2006  \n",
    "- Adult Mortality: 515.718  \n",
    "- Infant Deaths: 48.7  \n",
    "- Polio: 79.0  \n",
    "- HIV Incidents: 11.13  \n",
    "- BMI: 26.6  \n",
    "- Thinness (10–19 yrs): 1.6  \n",
    "- Schooling: 9.0  \n",
    "- GDP Per Capita: $5,827.0  \n",
    "**Predicted Life Expectancy:** **🌟 51.67 years**  \n",
    "**Actual Life Expectancy:** **✅ 53.8 years**  \n",
    "**Error:** **❌ -2.13 years**\n",
    "\n",
    "━━━━━━━━━━━━━━━━━━━━━━━━━━━━━━━━━━━━━━\n",
    "\n",
    "🌟 **Sensitive Scenario Input Data:**  \n",
    "- Region: Africa  \n",
    "- Year: 2006  \n",
    "- Adult Mortality: 515.718  \n",
    "- BMI: 26.6  \n",
    "- Polio: 79.0  \n",
    "- GDP Per Capita: $5,827.0  \n",
    "**Predicted Life Expectancy:** **🌟 49.87 years**  \n",
    "**Actual Life Expectancy:** **✅ 53.8 years**  \n",
    "**Error:** **❌ -3.93 years**\n",
    "<br><br><br>"
   ]
  },
  {
   "cell_type": "markdown",
   "id": "3adf4230",
   "metadata": {
    "id": "3adf4230"
   },
   "source": [
    "### 🌏 Test Case 3: EU (Spain)"
   ]
  },
  {
   "cell_type": "markdown",
   "id": "63ac8108",
   "metadata": {
    "id": "63ac8108"
   },
   "source": [
    "🧪 **Advanced Scenario Input Data:**  \n",
    "- Region: **European Union**  \n",
    "- Year: **2015**  \n",
    "- Adult Mortality: **57.9025**  \n",
    "- Infant Deaths: **2.7**  \n",
    "- Polio: **97.0**  \n",
    "- HIV Incidents: **0.09**  \n",
    "- BMI: **26.0**  \n",
    "- Thinness (10–19 yrs): **0.6**  \n",
    "- Schooling: **9.7**  \n",
    "- GDP Per Capita: **$25,742.0**\n",
    "\n",
    "**Predicted Life Expectancy:** **🌟 80.77 years**  \n",
    "**Actual Life Expectancy:** **✅ 82.8 years**  \n",
    "**Error:** **❌ -2.03 years**\n",
    "\n",
    "━━━━━━━━━━━━━━━━━━━━━━━━━━━━━━━━━━━━━━\n",
    "\n",
    "🌟 **Sensitive Scenario Input Data:**  \n",
    "- Region: **European Union**  \n",
    "- Year: **2015**  \n",
    "- Adult Mortality: **57.9025**  \n",
    "- BMI: **26.0**  \n",
    "- Polio: **97.0**  \n",
    "- GDP Per Capita: **$25,742.0**\n",
    "\n",
    "**Predicted Life Expectancy:** **🌟 78.90 years**  \n",
    "**Actual Life Expectancy:** **✅ 82.8 years**  \n",
    "**Error:** **❌ -3.9 years**\n",
    "<br><br><br>"
   ]
  },
  {
   "cell_type": "markdown",
   "id": "7958b395",
   "metadata": {},
   "source": [
    "### 📈 Assessment of the Models"
   ]
  },
  {
   "cell_type": "markdown",
   "id": "cb9b9f74",
   "metadata": {},
   "source": [
    "```python\n",
    "# Plot the predictions\n",
    "sns.scatterplot(x=y_test, y=y_test, label='True Values', color='red', alpha=0.5, marker='o')\n",
    "sns.scatterplot(x=y_test, y=y_test_pred, label='Predictions', color='blue', alpha=0.5, marker='+')\n",
    "plt.xlabel('True Values')\n",
    "plt.ylabel('Predictions')\n",
    "plt.title('True Values vs Predictions')\n",
    "plt.legend()\n",
    "```\n",
    "<p style=\"text-align:center;\">\n",
    "<img \n",
    "    src=\"https://i.postimg.cc/Bbx4CRcS/temp-Image-J9e-Gk6.avif\"\n",
    "     alt=\"WHO\"\n",
    "     style=\"float: center; margin-left: 0px;\"/>\n",
    "</p>\n",
    "\n"
   ]
  },
  {
   "cell_type": "markdown",
   "id": "ccd2e5d7",
   "metadata": {},
   "source": []
  }
 ],
 "metadata": {
  "colab": {
   "collapsed_sections": [
    "2bd5ed81-9c84-4a16-a897-71106b30fb22",
    "9fb12d99-413b-40f6-a4fb-70be80b8d1c8",
    "ccc6e5b5-7d5c-4871-bdf2-673c14af3ff4"
   ],
   "provenance": []
  },
  "kernelspec": {
   "display_name": "Python [conda env:base] *",
   "language": "python",
   "name": "conda-base-py"
  },
  "language_info": {
   "codemirror_mode": {
    "name": "ipython",
    "version": 3
   },
   "file_extension": ".py",
   "mimetype": "text/x-python",
   "name": "python",
   "nbconvert_exporter": "python",
   "pygments_lexer": "ipython3",
   "version": "3.12.7"
  }
 },
 "nbformat": 4,
 "nbformat_minor": 5
}
